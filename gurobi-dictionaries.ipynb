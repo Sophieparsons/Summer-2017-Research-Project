{
 "cells": [
  {
   "cell_type": "code",
   "execution_count": 15,
   "metadata": {
    "collapsed": true
   },
   "outputs": [],
   "source": [
    "import sys\n",
    "import csv\n",
    "import math\n",
    "from gurobipy import *"
   ]
  },
  {
   "cell_type": "code",
   "execution_count": 2,
   "metadata": {
    "collapsed": false
   },
   "outputs": [
    {
     "name": "stdout",
     "output_type": "stream",
     "text": [
      "{'C': ['7', '8', '9'], 'B': ['4', '5', '6'], 'A': ['1', '2', '3']}\n"
     ]
    }
   ],
   "source": [
    "#example of how to open a csv file as a dictionary - would be necesssary if I could read in the actual data, but I can't\n",
    "reader = csv.reader(open('workbook1.csv'))\n",
    "result1 = {}\n",
    "#tells it that the first column in a row is the key, and every other entry in the row is the data\n",
    "for row in reader:\n",
    "    key = row[0]\n",
    "    if key in result1:\n",
    "        pass\n",
    "#iterates for all rows\n",
    "    result1[key] = row[1:]\n",
    "print(result1)\n",
    "#repeat this process for however many files\n"
   ]
  },
  {
   "cell_type": "code",
   "execution_count": 3,
   "metadata": {
    "collapsed": true
   },
   "outputs": [],
   "source": [
    "#list of dubious assumptions I had to make to get my code to run:\n",
    "    #CSVs are of a form easily put into a dictionary (ie there is a key in the first column)\n",
    "    #This means that all the data files would need to be reworked into a key - data form\n",
    "    #All faults have an optimal sliprate without error bars\n",
    "    #All earthquakes can be put on any fault\n",
    "    #there are a limited number of faults and eathquakes"
   ]
  },
  {
   "cell_type": "code",
   "execution_count": 4,
   "metadata": {
    "collapsed": true
   },
   "outputs": [],
   "source": [
    "#Gurobi and dictionaries\n",
    "#Code Based on\n",
    "    #https://www.gurobi.com/documentation/7.0/examples/netflow_py.html#subsubsection:netflow.py \n",
    "    #http://www.gurobi.com/documentation/7.0/examples/workforce3_py.html\n",
    "#let optimal sliprate 1 = 5, sliprate 2 = 10, sliprate 3 = 15, sliprate 4 = 20"
   ]
  },
  {
   "cell_type": "code",
   "execution_count": 16,
   "metadata": {
    "collapsed": false
   },
   "outputs": [
    {
     "name": "stdout",
     "output_type": "stream",
     "text": [
      "25.0\n",
      "25.0\n"
     ]
    }
   ],
   "source": [
    "Fault, Faultslip = multidict({\n",
    "  ('Fault1'):  5,\n",
    "  ('Fault2'):  10,\n",
    "    ('Fault3'):  15,\n",
    "    ('Fault4'): 20})\n",
    "\n",
    "#for reading in a file (i.e. reader in cell 2) Faultslip = reader, Sumofslip = sum(reader.values())\n",
    "\n",
    "Earthquke, Slipearthquake= multidict({\n",
    "  ('event1'): 6,\n",
    "  ('event2'): 4,\n",
    "  ('event3'): 7,\n",
    "  ('event4'): 3,\n",
    "  ('event5'): 2,\n",
    "  ('event6'): 8,\n",
    "  ('event7'): 5,\n",
    "  ('event8'): 5,\n",
    "  ('event9'): 9,\n",
    "  ('event10'): 1 })\n",
    "#length of fault required by each earthquake\n",
    "#I just divided the sliprate by 2 which is obviously incorrect\n",
    "lengthrequired = {\n",
    "    ('event1'): 3,\n",
    "  ('event2'): 2,\n",
    "  ('event3'): 3.5,\n",
    "  ('event4'): 1.5,\n",
    "  ('event5'): 1,\n",
    "  ('event6'): 4,\n",
    "  ('event7'): 2.5,\n",
    "  ('event8'): 2.5,\n",
    "  ('event9'): 4.5,\n",
    "  ('event10'): .5}\n",
    "sumrequired = sum(lengthrequired.values())\n",
    "print (sumrequired)\n",
    "Lengthoffault = {\n",
    "  ('Fault1'):  2.5,\n",
    "  ('Fault2'):  5,\n",
    "    ('Fault3'):  7.5,\n",
    "    ('Fault4'): 10    \n",
    "}\n",
    "sumfaultlength = sum(Lengthoffault.values())\n",
    "print(sumfaultlength)"
   ]
  },
  {
   "cell_type": "code",
   "execution_count": 19,
   "metadata": {
    "collapsed": false
   },
   "outputs": [
    {
     "ename": "ValueError",
     "evalue": "too many values to unpack (expected 2)",
     "output_type": "error",
     "traceback": [
      "\u001b[0;31m---------------------------------------------------------------------------\u001b[0m",
      "\u001b[0;31mValueError\u001b[0m                                Traceback (most recent call last)",
      "\u001b[0;32m<ipython-input-19-3280e44ce581>\u001b[0m in \u001b[0;36m<module>\u001b[0;34m()\u001b[0m\n\u001b[1;32m      2\u001b[0m \u001b[0mm\u001b[0m \u001b[0;34m=\u001b[0m \u001b[0mModel\u001b[0m\u001b[0;34m(\u001b[0m\u001b[0;34m'Exampleearthquakes'\u001b[0m\u001b[0;34m)\u001b[0m\u001b[0;34m\u001b[0m\u001b[0m\n\u001b[1;32m      3\u001b[0m \u001b[0;34m\u001b[0m\u001b[0m\n\u001b[0;32m----> 4\u001b[0;31m \u001b[0mm\u001b[0m\u001b[0;34m.\u001b[0m\u001b[0msetObjective\u001b[0m\u001b[0;34m(\u001b[0m\u001b[0mquicksum\u001b[0m\u001b[0;34m(\u001b[0m\u001b[0mSlipearthquake\u001b[0m\u001b[0;34m[\u001b[0m\u001b[0mw\u001b[0m\u001b[0;34m]\u001b[0m\u001b[0;34m*\u001b[0m\u001b[0mx\u001b[0m\u001b[0;34m[\u001b[0m\u001b[0mw\u001b[0m\u001b[0;34m,\u001b[0m\u001b[0ms\u001b[0m\u001b[0;34m]\u001b[0m \u001b[0;32mfor\u001b[0m \u001b[0mw\u001b[0m\u001b[0;34m,\u001b[0m\u001b[0ms\u001b[0m \u001b[0;32min\u001b[0m \u001b[0mFaultslip\u001b[0m\u001b[0;34m)\u001b[0m\u001b[0;34m,\u001b[0m \u001b[0mGRB\u001b[0m\u001b[0;34m.\u001b[0m\u001b[0mMINIMIZE\u001b[0m\u001b[0;34m)\u001b[0m\u001b[0;34m\u001b[0m\u001b[0m\n\u001b[0m\u001b[1;32m      5\u001b[0m \u001b[0;34m\u001b[0m\u001b[0m\n\u001b[1;32m      6\u001b[0m \u001b[0;34m\u001b[0m\u001b[0m\n",
      "\u001b[0;32mgurobi.pxi\u001b[0m in \u001b[0;36mgurobipy.quicksum (../../src/python/gurobipy.c:114616)\u001b[0;34m()\u001b[0m\n",
      "\u001b[0;32m<ipython-input-19-3280e44ce581>\u001b[0m in \u001b[0;36m<genexpr>\u001b[0;34m(.0)\u001b[0m\n\u001b[1;32m      2\u001b[0m \u001b[0mm\u001b[0m \u001b[0;34m=\u001b[0m \u001b[0mModel\u001b[0m\u001b[0;34m(\u001b[0m\u001b[0;34m'Exampleearthquakes'\u001b[0m\u001b[0;34m)\u001b[0m\u001b[0;34m\u001b[0m\u001b[0m\n\u001b[1;32m      3\u001b[0m \u001b[0;34m\u001b[0m\u001b[0m\n\u001b[0;32m----> 4\u001b[0;31m \u001b[0mm\u001b[0m\u001b[0;34m.\u001b[0m\u001b[0msetObjective\u001b[0m\u001b[0;34m(\u001b[0m\u001b[0mquicksum\u001b[0m\u001b[0;34m(\u001b[0m\u001b[0mSlipearthquake\u001b[0m\u001b[0;34m[\u001b[0m\u001b[0mw\u001b[0m\u001b[0;34m]\u001b[0m\u001b[0;34m*\u001b[0m\u001b[0mx\u001b[0m\u001b[0;34m[\u001b[0m\u001b[0mw\u001b[0m\u001b[0;34m,\u001b[0m\u001b[0ms\u001b[0m\u001b[0;34m]\u001b[0m \u001b[0;32mfor\u001b[0m \u001b[0mw\u001b[0m\u001b[0;34m,\u001b[0m\u001b[0ms\u001b[0m \u001b[0;32min\u001b[0m \u001b[0mFaultslip\u001b[0m\u001b[0;34m)\u001b[0m\u001b[0;34m,\u001b[0m \u001b[0mGRB\u001b[0m\u001b[0;34m.\u001b[0m\u001b[0mMINIMIZE\u001b[0m\u001b[0;34m)\u001b[0m\u001b[0;34m\u001b[0m\u001b[0m\n\u001b[0m\u001b[1;32m      5\u001b[0m \u001b[0;34m\u001b[0m\u001b[0m\n\u001b[1;32m      6\u001b[0m \u001b[0;34m\u001b[0m\u001b[0m\n",
      "\u001b[0;31mValueError\u001b[0m: too many values to unpack (expected 2)"
     ]
    }
   ],
   "source": [
    "# Create optimization model\n",
    "m = Model('Exampleearthquakes')\n",
    "\n",
    "m.setObjective(quicksum(Slipearthquake[w]*x[w,s] for w,s in Faultslip), GRB.MINIMIZE)\n",
    "\n",
    "\n",
    "# Create variables\n",
    "x = m.addVars(availability, ub=1, name=\"x\")\n",
    "\n",
    "reqCts = m.addConstrs((x.sum('*', s) == Faultslip[s]\n",
    "                      for s in Slipearthquake), \"_\")\n",
    "#I would need a length requirement here but I'm not quite sure how to do thst "
   ]
  },
  {
   "cell_type": "code",
   "execution_count": 9,
   "metadata": {
    "collapsed": false
   },
   "outputs": [
    {
     "name": "stdout",
     "output_type": "stream",
     "text": [
      "Optimization was stopped with status 1\n",
      "The model is infeasible; computing IIS\n",
      "Iteration    Objective       Primal Inf.    Dual Inf.      Time\n",
      "       0    0.0000000e+00   0.000000e+00   0.000000e+00      0s\n",
      "IIS runtime: 0.00 seconds\n"
     ]
    },
    {
     "ename": "GurobiError",
     "evalue": "Cannot compute IIS on a feasible model",
     "output_type": "error",
     "traceback": [
      "\u001b[0;31m---------------------------------------------------------------------------\u001b[0m",
      "\u001b[0;31mGurobiError\u001b[0m                               Traceback (most recent call last)",
      "\u001b[0;32m<ipython-input-9-82eea5ce8e00>\u001b[0m in \u001b[0;36m<module>\u001b[0;34m()\u001b[0m\n\u001b[1;32m     25\u001b[0m     \u001b[0;32mwhile\u001b[0m \u001b[0;32mTrue\u001b[0m\u001b[0;34m:\u001b[0m\u001b[0;34m\u001b[0m\u001b[0m\n\u001b[1;32m     26\u001b[0m \u001b[0;34m\u001b[0m\u001b[0m\n\u001b[0;32m---> 27\u001b[0;31m         \u001b[0mm\u001b[0m\u001b[0;34m.\u001b[0m\u001b[0mcomputeIIS\u001b[0m\u001b[0;34m(\u001b[0m\u001b[0;34m)\u001b[0m\u001b[0;34m\u001b[0m\u001b[0m\n\u001b[0m\u001b[1;32m     28\u001b[0m         \u001b[0mprint\u001b[0m\u001b[0;34m(\u001b[0m\u001b[0;34m'\\nThe following constraint cannot be satisfied:'\u001b[0m\u001b[0;34m)\u001b[0m\u001b[0;34m\u001b[0m\u001b[0m\n\u001b[1;32m     29\u001b[0m         \u001b[0;32mfor\u001b[0m \u001b[0mc\u001b[0m \u001b[0;32min\u001b[0m \u001b[0mm\u001b[0m\u001b[0;34m.\u001b[0m\u001b[0mgetConstrs\u001b[0m\u001b[0;34m(\u001b[0m\u001b[0;34m)\u001b[0m\u001b[0;34m:\u001b[0m\u001b[0;34m\u001b[0m\u001b[0m\n",
      "\u001b[0;32mmodel.pxi\u001b[0m in \u001b[0;36mgurobipy.Model.computeIIS (../../src/python/gurobipy.c:54354)\u001b[0;34m()\u001b[0m\n",
      "\u001b[0;31mGurobiError\u001b[0m: Cannot compute IIS on a feasible model"
     ]
    }
   ],
   "source": [
    "#since there is a lot of error associated with the slip rate\n",
    "#I included this line to test the code independantly of the previous step\n",
    "m = Model('Exampleearthquakes')\n",
    "status = m.status\n",
    "if status == GRB.Status.UNBOUNDED:\n",
    "    print('The model cannot be solved because it is unbounded')\n",
    "    exit(0)\n",
    "if status == GRB.Status.OPTIMAL:\n",
    "    solution = m.getAttr('x', flow)\n",
    "    for h in commodities:\n",
    "        print('\\nOptimal flows for %s:' % h)\n",
    "        for i,j in arcs:\n",
    "            if solution[h,i,j] > 0:\n",
    "                print('%s -> %s: %g' % (i, j, solution[h,i,j]))\n",
    "if status != GRB.Status.INF_OR_UNBD and status != GRB.Status.INFEASIBLE:\n",
    "    print('Optimization was stopped with status %d' % status)\n",
    "    exit(0)\n",
    "#My example is feasable so the rest of this code will give a massive error (it assums imperfect conditions)\n",
    "\n",
    "# do IIS\n",
    "    print('The model is infeasible; computing IIS')\n",
    "    removed = []\n",
    "\n",
    "# Loop until we reduce to a model that can be solved\n",
    "    while True:\n",
    "\n",
    "        m.computeIIS()\n",
    "        print('\\nThe following constraint cannot be satisfied:')\n",
    "        for c in m.getConstrs():\n",
    "            if c.IISConstr:\n",
    "                print('%s' % c.constrName)\n",
    "                # Remove a single constraint from the model\n",
    "                removed.append(str(c.constrName))\n",
    "                m.remove(c)\n",
    "                break\n",
    "        print('')\n",
    "\n",
    "        m.optimize()\n",
    "        status = m.status\n",
    "\n",
    "        if status == GRB.Status.UNBOUNDED:\n",
    "            print('The model cannot be solved because it is unbounded')\n",
    "            exit(0)\n",
    "        if status == GRB.Status.OPTIMAL:\n",
    "            break\n",
    "        if status != GRB.Status.INF_OR_UNBD and status != GRB.Status.INFEASIBLE:\n",
    "            print('Optimization was stopped with status %d' % status)\n",
    "        exit(0)\n",
    "\n",
    "print('\\nThe following constraints were removed to get a feasible LP:')\n",
    "print(removed)"
   ]
  },
  {
   "cell_type": "code",
   "execution_count": null,
   "metadata": {
    "collapsed": false
   },
   "outputs": [],
   "source": [
    "#Attempt2\n",
    "# Fault capacity constraint\n",
    "#m.addConstrs((flow.sum('*',i) <= Slipeathquake[i]), \"cap\"\n",
    "#for i in Faultslip:\n",
    "    #m.addConstr((Sumofearthquake <= Faultslip[i]),\"slip\")\n",
    "\n",
    "\n",
    "# Flow conservation constraints\n",
    "\n",
    "#m.addConstrs((quicksum(flow[h,i] for i in Faultslip.select('*',j)) == quicksum(flow[h,j] for j in Faultslip.select(j,'*'))for h in Faults for j in Earthquakes), \"node\")\n",
    "#m.addConstrs((flow.sum(h,'*') + Faultslip[h] == flow.sum(h,j,'*')for h in Faults for j in Earthquakes), \"conservation\")\n",
    "             #(flow.sum(h,'*',j) + inflow[h,j] == flow.sum(h,j,'*')for h in commodities for j in nodes), \"node\")\n",
    "# Compute optimal solution\n",
    "#m.optimize()\n",
    "\n",
    "# Print solution below\n",
    "# + Faultslip[h]"
   ]
  },
  {
   "cell_type": "code",
   "execution_count": null,
   "metadata": {
    "collapsed": true
   },
   "outputs": [],
   "source": []
  }
 ],
 "metadata": {
  "anaconda-cloud": {},
  "kernelspec": {
   "display_name": "Python [default]",
   "language": "python",
   "name": "python3"
  },
  "language_info": {
   "codemirror_mode": {
    "name": "ipython",
    "version": 3
   },
   "file_extension": ".py",
   "mimetype": "text/x-python",
   "name": "python",
   "nbconvert_exporter": "python",
   "pygments_lexer": "ipython3",
   "version": "3.5.2"
  }
 },
 "nbformat": 4,
 "nbformat_minor": 1
}
