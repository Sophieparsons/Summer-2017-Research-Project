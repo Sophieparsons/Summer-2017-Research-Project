{
 "cells": [
  {
   "cell_type": "code",
   "execution_count": null,
   "metadata": {
    "collapsed": true
   },
   "outputs": [],
   "source": [
    "Linear programing, Gurobi, and Setting up Jupyter/Github"
   ]
  },
  {
   "cell_type": "code",
   "execution_count": null,
   "metadata": {
    "collapsed": true
   },
   "outputs": [],
   "source": [
    "#Jupyter notebook and Github\n",
    "#To push a jupyter notebook\n",
    "#Config (this only happens once)\n",
    "git config --global user.email \"your_email@example.com\"\n",
    "git config --global user.name \"Your Name\"\n",
    "git config --global push.default simple\n",
    "#add and commit\n",
    "git rm the-file-i-deleted\n",
    "git add the-file-i-added\n",
    "git commit -m \"I deleted a file and added a new file.\"\n",
    "#only modified \n",
    "git commit -a -m \"I modified some existing files.\""
   ]
  },
  {
   "cell_type": "code",
   "execution_count": null,
   "metadata": {
    "collapsed": true
   },
   "outputs": [],
   "source": [
    "#to create a jupyter notebook\n",
    "cd folder where you want your jupyter notebooks\n",
    "jupyter notebook\n",
    "# to run cells press shift enter\n",
    "# to open a jupyter notebook on the computer\n",
    "cd folder where you keep jupyter noteboooks\n",
    "Jupyter notebook\n",
    "# this will give you a list of all notebooks kept in this folder \n",
    "#to access a specific one\n",
    "Jupyter notebook name_of_file.ipynb"
   ]
  },
  {
   "cell_type": "code",
   "execution_count": null,
   "metadata": {
    "collapsed": false
   },
   "outputs": [],
   "source": [
    "I read about minimizing and maximizing some varaition on Ax = B given a set of constraint functions\n",
    "Basically, you are given a problem with a list of constraints. The goal is to either minimize or maximize a function given these constrains, typically, this can either be done by setting up inequaliteis, graphing them, and locating \"corners\" of the set of fuctions; or through matricies. \n",
    "The simplex method: Phase 1 locates a corner Phase 2 Goes along the edges of the feasable set going from corner to\n",
    "corner until a minimum has been reached.\n",
    "Theory of dualtiy: there are 2 problems: the primal and the dual: you can get at the same answer, say you're looking for \n",
    "a maximum by fliping the inequalities (except for x,y>=0) and minimizing them, or solving the equation as you would \n",
    "typically using the simplex method. These anwsers should find the same optimal vector unless one feasable set is empty\n",
    "and the otehr is unbounded. \n",
    "Theory of inequalites: Either Ax=b has a solution or there exists a y such that yA=0, yb≠0\n",
    "Sorces: \n",
    "    Linear algebra and its aplications p 305 - \n",
    "    https://www.youtube.com/watch?v=M4K6HYLHREQ"
   ]
  },
  {
   "cell_type": "code",
   "execution_count": 9,
   "metadata": {
    "collapsed": false
   },
   "outputs": [
    {
     "data": {
      "text/plain": [
       "     fun: -11.0\n",
       " message: 'Optimization terminated successfully.'\n",
       "     nit: 3\n",
       "   slack: array([ 0.,  4.,  0.,  4.,  0.])\n",
       "  status: 0\n",
       " success: True\n",
       "       x: array([ 1.,  5.])"
      ]
     },
     "execution_count": 9,
     "metadata": {},
     "output_type": "execute_result"
    }
   ],
   "source": [
    "#an example of linear programing using the optimise fuction of SciPy\n",
    "#note you will need to have SciPy installed for this to run\n",
    "from scipy import optimize\n",
    "optimize.linprog(c = [-1, -2], A_ub=[[1, 1]], b_ub=[6],bounds=(1, 5),method='simplex')"
   ]
  },
  {
   "cell_type": "code",
   "execution_count": null,
   "metadata": {
    "collapsed": true
   },
   "outputs": [],
   "source": [
    "Gurobi\n",
    "runs a python shell with gurobi libraries imported\n",
    "For limitless upper bounds use GRB.INIFINTY \n",
    "For a linear program with all continuous variables use GRB.CONTINUOS\n",
    "To constrain vtype to be integers use GRB.INTERGER\n",
    "Default value for lower bound is 0, upperbound is infinity \n"
   ]
  },
  {
   "cell_type": "code",
   "execution_count": null,
   "metadata": {
    "collapsed": false
   },
   "outputs": [],
   "source": [
    "#construction of a model object\n",
    "m = Model()\n",
    "x1 = m.addVar(lb,ub,obj,vtype,name)\n",
    "...\n",
    "xj = m.addVar(lb,ub,obj,vtype,name)\n",
    "#lb is lower bound\n",
    "#ub is upper bound\n",
    "#obj is objective function coefficent \n",
    "#vtype is the variable type \n",
    "#name is name\n",
    "#when done with addVar use \n",
    "m.update()\n",
    "#to add contrains\n",
    "con1 = m.addConstr(function,name)\n",
    "...\n",
    "conj = m.addConstr(function,name)\n",
    "# can either update or optimize from here\n",
    "m.update()\n",
    "#or\n",
    "m.optimize()\n",
    "#to get optimal values of eath of the decision varaibles\n",
    "x1.X\n",
    "...\n",
    "xj.X\n",
    "#to get model in a readable form\n",
    "Model.write(filename.lp)\n",
    "#to get a precice copy of the model\n",
    "Model.write(filename.mps)\n",
    "#to call the solution\n",
    "Model.wrtie(filename.sol)\n",
    "#to find out if there is an optmial solution\n",
    "m.Status\n",
    "#optimal objective value\n",
    "m.ObjVal"
   ]
  },
  {
   "cell_type": "code",
   "execution_count": null,
   "metadata": {
    "collapsed": true
   },
   "outputs": [],
   "source": [
    "Source:\n",
    "    Getting started with gurobi\n",
    "    https://www.youtube.com/watch?v=O0_ZPT2pd-M\n",
    "    https://www.youtube.com/watch?v=5mct7ltVeVc"
   ]
  }
 ],
 "metadata": {
  "anaconda-cloud": {},
  "kernelspec": {
   "display_name": "Python [default]",
   "language": "python",
   "name": "python3"
  },
  "language_info": {
   "codemirror_mode": {
    "name": "ipython",
    "version": 3
   },
   "file_extension": ".py",
   "mimetype": "text/x-python",
   "name": "python",
   "nbconvert_exporter": "python",
   "pygments_lexer": "ipython3",
   "version": "3.5.2"
  }
 },
 "nbformat": 4,
 "nbformat_minor": 1
}
