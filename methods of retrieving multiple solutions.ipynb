{
 "cells": [
  {
   "cell_type": "code",
   "execution_count": null,
   "metadata": {
    "collapsed": true
   },
   "outputs": [],
   "source": [
    "#This meathod prints out all solutions it has to get through to get to the optimal solutions using for loops\n",
    "#It should be placed directly after \"model.optimize()\"\n",
    "for k in range(model.solCount):\n",
    "    model.Params.solutionNumber = k\n",
    "    objn = 0\n",
    "for v in model.getVars():\n",
    "    objn += v.obj * v.xn\n",
    "    print('Solution %d has objective %g' % (k, objn))\n",
    "print('')\n"
   ]
  },
  {
   "cell_type": "code",
   "execution_count": null,
   "metadata": {
    "collapsed": true
   },
   "outputs": [],
   "source": [
    "#this gives you all the incumbent solutions using a while loop\n",
    "#it should be placed after \"success = dense_optimize(ma, na, m, n, ne, c, A, aZ, ms, mins,sol)\"\n",
    "while (model.getAttr('Status') != GRB.OPTIMAL):\n",
    "    model.optimize()\n",
    "    model.write(\"{0}.sol\".format(model.getAttr('SolCount')))\n",
    "    model.params.solutionLimit += 1"
   ]
  },
  {
   "cell_type": "code",
   "execution_count": null,
   "metadata": {
    "collapsed": true
   },
   "outputs": [],
   "source": [
    "#This 1 is a bit more clunky, it basically counts the number of solutions in the solution pool and uses if statements \n",
    "#it retrieves to worst objective value first and then prints all nonzero variables\n",
    "#it should be located after \"success = dense_optimize(ma, na, m, n, ne, c, A, aZ, ms, mins,sol)\"\n",
    "solution_pool_size = model.getAttr('SolCount')\n",
    "print (\"Solution pool contains {0} solutions\".format(solution_pool_size))\n",
    "\n",
    "if (solution_pool_size > 0):\n",
    "    model.params.solutionNumber = solution_pool_size - 1\n",
    "    for variable in model.getVars():\n",
    "        value = variable.getAttr('Xn')\n",
    "        if (value > 0):\n",
    "            print(\"{0}: {1}\".format(variable.getAttr('VarName'), value))\n",
    "\n"
   ]
  },
  {
   "cell_type": "code",
   "execution_count": null,
   "metadata": {
    "collapsed": true
   },
   "outputs": [],
   "source": [
    "Sources:http://www.gurobi.com/documentation/6.0/refman/solutionnumber.html\n",
    "        http://www.gurobi.com/documentation/6.0/refman/xn.html\n",
    "        https://www.gurobi.com/documentation/7.0/refman/finding_multiple_solutions.html"
   ]
  }
 ],
 "metadata": {
  "kernelspec": {
   "display_name": "Python [default]",
   "language": "python",
   "name": "python3"
  },
  "language_info": {
   "codemirror_mode": {
    "name": "ipython",
    "version": 3
   },
   "file_extension": ".py",
   "mimetype": "text/x-python",
   "name": "python",
   "nbconvert_exporter": "python",
   "pygments_lexer": "ipython3",
   "version": "3.5.2"
  }
 },
 "nbformat": 4,
 "nbformat_minor": 1
}
