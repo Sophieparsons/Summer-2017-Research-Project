{
 "cells": [
  {
   "cell_type": "code",
   "execution_count": null,
   "metadata": {
    "collapsed": true
   },
   "outputs": [],
   "source": [
    "Goals of MIP:\n",
    "Reduce the size of the problem\n",
    "Streaghten Linear Programing relaxation\n",
    "Identify problematic substructures"
   ]
  },
  {
   "cell_type": "code",
   "execution_count": null,
   "metadata": {
    "collapsed": true
   },
   "outputs": [],
   "source": [
    "Mixed Integer Programming Basics (in relation to dense.py):\n",
    "Objective function:  xT Q x + qT x\n",
    "Constraints: A x = b (linear constraints)\n",
    "            l ≤ x ≤ u (bound constraints)\n",
    "            xT Qi x + qiT x ≤ bi (quadratic constraints)#not found in dense.py - MIP models with a quadratic objective but without quadratic constraints are called Mixed Integer Quadratic Programming (MIQP) problems\n",
    "            #some or all x must take integer values (integrality constraints)\n",
    "Branch and bound:\n",
    "    If the original MIP is unsolvavble, Gurobi relaxes the MIP by removing the integrality restrictions. It then solves the problem. \n",
    "    If this solution does not satisfy the original integrality restrictions, then standard procedure is to pick some variable that is restricted to be a fractional integer.\n",
    "    It then solved for the lower and uper bounds of the fractional integer (ie x =5.7, it would solve for x<=5, x>=6)\n",
    "    This continues, each time selecting \"branching variables\" the generated MIPs are called the \"nodes of the tree\" and P0, the original relaxation,is the root node.\n",
    "Fathomed and Incumbent nodes:\n",
    "    If all of the integrality restrictions of the original MIP are satisfied at a node, then we first designate the node as \"fathomed\"\n",
    "    The best integer solution found is called the incumbent, if the integer feasible solution just found has a better objective function value than the current incumbent, it becomes the new incumbent\n",
    "    A node can also be fathomed if the branch that led to the current node added a restriction that made the LP relaxation infeasible\n",
    "    Or if an optimal relaxation solution is found, but its objective value is bigger than that of the current incumbent\n",
    "Best Bound and Gap\n",
    "    A valid uper bound on the optimal solution of the given MIP is needed\n",
    "    A valid lower bound (called the \"best bound\") is also needed\n",
    "Presolve, Cutting Planes, Heuristics, Parallelism\n",
    "    Presolve:\n",
    "        Problem reductions applied before branch and bound \n",
    "    Cutting planes:\n",
    "        Removal of undesirable fractional solutions during the solution process without creating additional sub-problems (unlike branching)\n",
    "    Heuristics:\n",
    "        Having good incumbents and finding them quickly is valuable when solving MIPs since the underlying MIP may be too difficult or the time restrains may limit Gurobi's abiltiy to find the optimal solution\n",
    "        At some of the nodes of the search tree, look to see if an integer feasible solution can be extracted, even though integrality has not yet resulted \n",
    "            I.E. it may be that many of the integer variables have values that are quite close to integral. We could round some of them to their nearby values, fix them to these values, solve the resulting LP relaxation, and repeatin the hopes that all integer variables will fall into line. \n",
    "                If they do, and if the resulting feasible has a better objective value than the current incumbent, we replace that incumbent and proceed."
   ]
  },
  {
   "cell_type": "code",
   "execution_count": null,
   "metadata": {
    "collapsed": true
   },
   "outputs": [],
   "source": [
    "Sources:Gurobi Video Python III\n",
    "        http://www.gurobi.com/resources/getting-started/mip-basics\n",
    "        Algorithms in Gurobi\n",
    "        Mixed Integer Programming"
   ]
  },
  {
   "cell_type": "code",
   "execution_count": 1,
   "metadata": {
    "collapsed": false
   },
   "outputs": [
    {
     "name": "stdout",
     "output_type": "stream",
     "text": [
      "[0, 1, 4, 9, 16, 25]\n",
      "[(0, 1), (0, 2), (1, 2), (0, 3), (1, 3), (2, 3)]\n",
      "[2, 3, 5, 6, 7, 8]\n",
      "55\n"
     ]
    }
   ],
   "source": [
    "#fun with lists\n",
    "squares = [i**2 for i in range(6)]\n",
    "print(squares)\n",
    "pairs = [(i,j) for j in range(4) for i in range(j)]\n",
    "print(pairs)\n",
    "nonsquares = [i for i in range(10) if i not in squares]\n",
    "print(nonsquares)\n",
    "sumsquares = sum(squares)\n",
    "print(sumsquares)"
   ]
  },
  {
   "cell_type": "code",
   "execution_count": 2,
   "metadata": {
    "collapsed": false
   },
   "outputs": [
    {
     "ename": "SyntaxError",
     "evalue": "invalid syntax (<ipython-input-2-7d0e1196cf05>, line 5)",
     "output_type": "error",
     "traceback": [
      "\u001b[0;36m  File \u001b[0;32m\"<ipython-input-2-7d0e1196cf05>\"\u001b[0;36m, line \u001b[0;32m5\u001b[0m\n\u001b[0;31m    for c in cities\u001b[0m\n\u001b[0m                   ^\u001b[0m\n\u001b[0;31mSyntaxError\u001b[0m\u001b[0;31m:\u001b[0m invalid syntax\n"
     ]
    }
   ],
   "source": [
    "#this requires gurobi to run\n",
    "cities = ['A','B','C','D']\n",
    "Routes = tuplelist([('A','B'),('A','C'),('B','C'),('B','D'),('C','D')])\n",
    "print(Routes)\n",
    "for c in cities\n",
    "    print(Routes.select(c,'*'))"
   ]
  },
  {
   "cell_type": "code",
   "execution_count": null,
   "metadata": {
    "collapsed": true
   },
   "outputs": [],
   "source": [
    "Tupledict: gurobi specific dictionary class where the keys are tuples \n",
    "    -used for decision variables and constraints "
   ]
  },
  {
   "cell_type": "raw",
   "metadata": {},
   "source": [
    "#indexed variables for Model.addVars()\n",
    "#using integers\n",
    "x = m.addVars(2,3,name=\"x\")\n",
    "#result is x[i,j] where i[2] and j[3]\n",
    "#using list of scalars (for example cities which is defined in cell 4)\n",
    "y = m.addVars(cities,cities, name=\"y\")\n",
    "#result is every possible cominbination of cities in the form y[i,j] \n",
    "#since there are 4 possibilites in citites, there are 16 results\n",
    "#using a tuplelist (I used routes which is defined in cell 4)\n",
    "z = m.addVars(Routes, name= \"z\")\n",
    "#result is z[i,j] where i,j are the to=uples defined in routes\n",
    "#Using a generator expression (!)\n",
    "w = m.addVars((i for i in range(5) if i != 2), name = \"w\")\n",
    "#returns w[i] where i [0,4] except 2 "
   ]
  },
  {
   "cell_type": "code",
   "execution_count": null,
   "metadata": {
    "collapsed": true
   },
   "outputs": [],
   "source": [
    "#Gurobi's sum functions\n",
    "#simple sum is easier to use than the full sum but it can't do everything the full sum can do\n",
    "#full sum uses generator expression inside a quicksum expression (I did not define cost and arcs bcause they were long and not particularly enlightening)\n",
    "obj = quicksum(cost[i,j]*x[i,j] for i,j in arcs)\n",
    "#for cost is a dictionary, then the previous statement is equivelent to\n",
    "obj = x.prod(cost)\n",
    "#simple sum\n",
    "x = m.addVars(3, 4, vtype=GRB.BINARY, name=\"x\")\n",
    "m.addConstr(x.sum(i,'*')<=1 for i in range(3))\n",
    "#the resulting constraints are a list of sums of x[i,j]<=1 for all possiblities of j[1,4] when i is indexed at 0, 1, and 2"
   ]
  },
  {
   "cell_type": "code",
   "execution_count": null,
   "metadata": {
    "collapsed": true
   },
   "outputs": [],
   "source": [
    "Source: Gurobi Video Python II"
   ]
  },
  {
   "cell_type": "code",
   "execution_count": null,
   "metadata": {
    "collapsed": true
   },
   "outputs": [],
   "source": [
    "#controling MIP emphasis\n",
    "m.setParam('MIPfocus', 1) #focus on finding good solutions\n",
    "m.setParam('MIPfocus', 2) #focus on providing optimality\n",
    "m.setParam('MIPfocus', 3) #focus on improving lower bound\n",
    "m.setParam('Heuristics', 0.5) #tells Gurobi to spenmd 50% of its time looking for improving soliutions\n",
    "#setting acceptable gap\n",
    "m.setParam('MIPGap', 0.1) #stop if proven gap is under 10%\n",
    "m.setParam('MIPGapAbs', 1.0) #stop if proven gap is under 1.0\n",
    "m.setParam('Cutoff', maxval) #Don't explore nodes whose LP value is above maxval\n",
    "m.setParam('BestObjStop', targetval) #stop whenever we find a solution with a value under targetval\n",
    "m.setParam('BestBdStop', relaxval) #stop whenever the current bound is above relaxval\n",
    "#limiting the work Gurobi does solivng the MIP\n",
    "m.setParam('SolutionLimit',5) #stop after finding 5 solutions (note the more solutions Gurobi finds, the better the qua\"lity of the solve)\n",
    "m.setParam('NodeLimit',500) #stop after exploring 500 nodes in the Branch and Bound\n",
    "m.setParam('IterationLimit',1000000) #stop after preforming 1000000 simple iterations\n",
    "m.setParam('TimeLimit',3600) #stop after 1 hour of running time"
   ]
  },
  {
   "cell_type": "code",
   "execution_count": null,
   "metadata": {
    "collapsed": true
   },
   "outputs": [],
   "source": [
    "Source: Gurobi Video Python III"
   ]
  },
  {
   "cell_type": "code",
   "execution_count": null,
   "metadata": {
    "collapsed": true
   },
   "outputs": [],
   "source": [
    "#random notes\n",
    "Debugging: write out the gurobi file as an lp\n",
    "#multiple solutions\n",
    "By default, the Gurobi MIP solver will try to find one proven optimal solution to your model. It will typically find multiple sub-optimal solutions along the way, which can be retrieved later (using the SolutionNumber parameter, and the Xn, PoolObjVal attributes).\n",
    "https://www.gurobi.com/documentation/7.0/refman/finding_multiple_solutions.html"
   ]
  }
 ],
 "metadata": {
  "anaconda-cloud": {},
  "kernelspec": {
   "display_name": "Python [default]",
   "language": "python",
   "name": "python3"
  },
  "language_info": {
   "codemirror_mode": {
    "name": "ipython",
    "version": 3
   },
   "file_extension": ".py",
   "mimetype": "text/x-python",
   "name": "python",
   "nbconvert_exporter": "python",
   "pygments_lexer": "ipython3",
   "version": "3.5.2"
  }
 },
 "nbformat": 4,
 "nbformat_minor": 1
}
